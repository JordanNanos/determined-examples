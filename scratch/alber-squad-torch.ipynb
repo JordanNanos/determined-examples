{
 "cells": [
  {
   "cell_type": "markdown",
   "id": "92d7f34d-fd2b-4ca9-acab-6e04eddce9af",
   "metadata": {
    "tags": []
   },
   "source": [
    "# HPE Cray AI Development Environment Demo\n",
    "## Torch Stuff"
   ]
  },
  {
   "cell_type": "code",
   "execution_count": 3,
   "id": "ec048f0f-7a1e-44e8-81b8-028613b50f1a",
   "metadata": {},
   "outputs": [
    {
     "name": "stdout",
     "output_type": "stream",
     "text": [
      "Determined.AI version is det 0.17.6.\n",
      "TensorFlow version is 2.8.0-rc1.\n"
     ]
    }
   ],
   "source": [
    "# Install Determined CLI is needed\n",
    "#!pip install determined\n",
    "\n",
    "# Get Determined.AI version\n",
    "det_ver = !det -v\n",
    "\n",
    "import os\n",
    "import gzip\n",
    "import tempfile\n",
    "import tensorflow as tf\n",
    "import numpy as np\n",
    "import matplotlib.pyplot as plt\n",
    "from tensorflow import keras\n",
    "from determined.experimental import client as det\n",
    "from tensorflow.python.keras.utils.data_utils import get_file\n",
    "\n",
    "print(\"Determined.AI version is \"+det_ver[0]+\".\")\n",
    "print(\"TensorFlow version is \"+tf.__version__+\".\")"
   ]
  },
  {
   "cell_type": "code",
   "execution_count": 20,
   "id": "876552cd",
   "metadata": {},
   "outputs": [
    {
     "name": "stdout",
     "output_type": "stream",
     "text": [
      "/Users/j9s/git/labs/HPE-Cray-AI-Development-Environment-Demo/mlops_demos/torch (new)\n"
     ]
    }
   ],
   "source": [
    "p = !pwd\n",
    "pwd = str(p)\n",
    "pwd = pwd.replace('[','')\n",
    "pwd = pwd.replace(']','')\n",
    "pwd = pwd.replace('\\'','')\n",
    "pwd = pwd.replace('\\'','')\n",
    "\n",
    "print(pwd)"
   ]
  },
  {
   "cell_type": "code",
   "execution_count": 21,
   "id": "794e7768",
   "metadata": {},
   "outputs": [
    {
     "name": "stdout",
     "output_type": "stream",
     "text": [
      "/Users/j9s/git/labs/HPE-Cray-AI-Development-Environment-Demo/mlops_demos/torch (new)/data\n"
     ]
    }
   ],
   "source": [
    "data = pwd + '/data'\n",
    "print(data)"
   ]
  },
  {
   "cell_type": "code",
   "execution_count": null,
   "id": "80edac09",
   "metadata": {},
   "outputs": [],
   "source": []
  },
  {
   "cell_type": "code",
   "execution_count": null,
   "id": "50636610",
   "metadata": {},
   "outputs": [],
   "source": []
  },
  {
   "cell_type": "code",
   "execution_count": null,
   "id": "53fef17e",
   "metadata": {},
   "outputs": [],
   "source": []
  },
  {
   "cell_type": "code",
   "execution_count": null,
   "id": "dc7ff867",
   "metadata": {},
   "outputs": [],
   "source": []
  }
 ],
 "metadata": {
  "kernelspec": {
   "display_name": "Python 3",
   "language": "python",
   "name": "python3"
  },
  "language_info": {
   "codemirror_mode": {
    "name": "ipython",
    "version": 3
   },
   "file_extension": ".py",
   "mimetype": "text/x-python",
   "name": "python",
   "nbconvert_exporter": "python",
   "pygments_lexer": "ipython3",
   "version": "3.10.0"
  }
 },
 "nbformat": 4,
 "nbformat_minor": 5
}
