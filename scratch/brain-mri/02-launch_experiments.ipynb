{
 "cells": [
  {
   "cell_type": "code",
   "execution_count": 3,
   "id": "7686f68c-8c55-4960-9612-bd99c75b5b1d",
   "metadata": {},
   "outputs": [
    {
     "name": "stdout",
     "output_type": "stream",
     "text": [
      "   ID | Owner   | Name                      | Parent ID   | State     | Progress   | Start Time               | End Time                 | Resource Pool\n",
      "------+---------+---------------------------+-------------+-----------+------------+--------------------------+--------------------------+----------------------\n",
      "    7 | nanos   | object_detection_const_hp |             | COMPLETED | 100.0%     | 2022-10-14 23:12:24+0000 | 2022-10-14 23:13:52+0000 | compute-pool-on-prem\n"
     ]
    }
   ],
   "source": [
    "!det -m \"hpe-shared.determined.ai:8080\" e list | tail -5"
   ]
  },
  {
   "cell_type": "code",
   "execution_count": 10,
   "id": "fb7acf55-23d5-4886-ad76-abc3f2d7834a",
   "metadata": {},
   "outputs": [
    {
     "name": "stdout",
     "output_type": "stream",
     "text": [
      "Preparing files (/Users/j9s/git/determined-examples/scratch/brain-mri) to send to master... 2.0MB and 17 files \n",
      "Created experiment 12\n"
     ]
    }
   ],
   "source": [
    "!det -m \"hpe-shared.determined.ai:8080\" e create test1-onprem.yml ."
   ]
  },
  {
   "cell_type": "code",
   "execution_count": 17,
   "id": "90d4a044-39be-4d93-88cc-7ca9507b11e9",
   "metadata": {
    "tags": []
   },
   "outputs": [
    {
     "name": "stdout",
     "output_type": "stream",
     "text": [
      "Preparing files (/run/determined/workdir/shared_fs/users/jordan/brain-mri) to send to master... 335.0KB and 29 files\n",
      "Created experiment 48\n"
     ]
    }
   ],
   "source": [
    "!det e create test2-onprem.yml ."
   ]
  },
  {
   "cell_type": "code",
   "execution_count": 19,
   "id": "ae93e597-7647-41b3-82a5-3e42a2556eeb",
   "metadata": {},
   "outputs": [
    {
     "name": "stdout",
     "output_type": "stream",
     "text": [
      "Preparing files (/run/determined/workdir/shared_fs/users/jordan/brain-mri) to send to master... 336.5KB and 30 files\n",
      "Created experiment 50\n"
     ]
    }
   ],
   "source": [
    "!det e create test3-onprem.yml ."
   ]
  },
  {
   "cell_type": "code",
   "execution_count": 24,
   "id": "5c9decde-dffc-431d-ba18-defe4bbbcfb8",
   "metadata": {},
   "outputs": [
    {
     "name": "stdout",
     "output_type": "stream",
     "text": [
      "Preparing files (/run/determined/workdir/shared_fs/users/jordan/brain-mri) to send to master... 341.2KB and 31 files\n",
      "Created experiment 54\n"
     ]
    }
   ],
   "source": [
    "!det e create test4-onprem.yml ."
   ]
  },
  {
   "cell_type": "code",
   "execution_count": 26,
   "id": "4eff4210-9ccd-49d1-859b-cd60ee887017",
   "metadata": {},
   "outputs": [
    {
     "name": "stdout",
     "output_type": "stream",
     "text": [
      "Preparing files (/run/determined/workdir/shared_fs/users/jordan/brain-mri) to send to master... 341.2KB and 31 files\n",
      "Created experiment 58\n"
     ]
    }
   ],
   "source": [
    "!det e create test5-hpsearch-onprem.yml ."
   ]
  },
  {
   "cell_type": "code",
   "execution_count": null,
   "id": "a9801f05-0b01-430b-bd0d-c377359e4c2b",
   "metadata": {},
   "outputs": [],
   "source": []
  }
 ],
 "metadata": {
  "kernelspec": {
   "display_name": "Python 3.9.13 ('scratch')",
   "language": "python",
   "name": "python3"
  },
  "language_info": {
   "codemirror_mode": {
    "name": "ipython",
    "version": 3
   },
   "file_extension": ".py",
   "mimetype": "text/x-python",
   "name": "python",
   "nbconvert_exporter": "python",
   "pygments_lexer": "ipython3",
   "version": "3.9.13"
  },
  "vscode": {
   "interpreter": {
    "hash": "3572409704bb243e2062bf55b017a0bf3eab1ba8204fd6730d79b54649de6dc5"
   }
  }
 },
 "nbformat": 4,
 "nbformat_minor": 5
}
