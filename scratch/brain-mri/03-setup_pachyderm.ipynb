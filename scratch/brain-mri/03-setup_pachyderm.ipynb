{
 "cells": [
  {
   "cell_type": "markdown",
   "id": "1894d18e-3f18-489a-ba0a-594143089486",
   "metadata": {},
   "source": [
    "# Pachyderm + Determined for the Brain MRI example"
   ]
  },
  {
   "cell_type": "markdown",
   "id": "a00a2655-d5c2-4b49-bafa-4c3219fc5246",
   "metadata": {},
   "source": [
    "### Pachctl install"
   ]
  },
  {
   "cell_type": "code",
   "execution_count": null,
   "id": "fafc7e8f-7e1f-4079-8f1c-1f11672e0d1c",
   "metadata": {},
   "outputs": [],
   "source": [
    "!curl -o /tmp/pachctl.tar.gz -L https://github.com/pachyderm/pachyderm/releases/download/v2.3.9/pachctl_2.3.9_linux_amd64.tar.gz && tar -xvf /tmp/pachctl.tar.gz -C /tmp && cp /tmp/pachctl_2.3.9_linux_amd64/pachctl /usr/local/bin "
   ]
  },
  {
   "cell_type": "code",
   "execution_count": null,
   "id": "ee87ee3c-3268-4ffe-adcf-bb91d3be0938",
   "metadata": {},
   "outputs": [],
   "source": [
    "!pachctl version --client-only  "
   ]
  },
  {
   "cell_type": "markdown",
   "id": "fff1d9e7-a8ca-4aee-ada5-94aca2a6ed3c",
   "metadata": {},
   "source": [
    "### Connect pachctl to the cluster"
   ]
  },
  {
   "cell_type": "code",
   "execution_count": null,
   "id": "62993412-4df5-416e-850d-f61783dfbf5b",
   "metadata": {},
   "outputs": [],
   "source": [
    "!echo '{\"pachd_address\": \"grpc://10.10.162.124:30650\"}' | pachctl config set context \"determined-seldon-context\" --overwrite"
   ]
  },
  {
   "cell_type": "code",
   "execution_count": null,
   "id": "c42e1a0e-cb1b-4546-addf-78928d36fc5b",
   "metadata": {},
   "outputs": [],
   "source": [
    "!pachctl config set active-context \"determined-seldon-context\""
   ]
  },
  {
   "cell_type": "code",
   "execution_count": null,
   "id": "aa15465c-af97-4f67-8089-9b00afcdcbc5",
   "metadata": {},
   "outputs": [],
   "source": [
    "!pachctl version"
   ]
  },
  {
   "cell_type": "code",
   "execution_count": null,
   "id": "610079ab-84da-4cda-a10f-149862adaf30",
   "metadata": {},
   "outputs": [],
   "source": [
    "!pachctl list repo"
   ]
  },
  {
   "cell_type": "markdown",
   "id": "2283b52f-7ecd-4d59-a716-f93c73279520",
   "metadata": {},
   "source": [
    "### Create a new repo"
   ]
  },
  {
   "cell_type": "code",
   "execution_count": null,
   "id": "f6db06b9-af53-4937-86da-fa9372634571",
   "metadata": {},
   "outputs": [],
   "source": [
    "!pachctl create repo brain-mri-new"
   ]
  },
  {
   "cell_type": "code",
   "execution_count": null,
   "id": "0f0379f7-20b7-43f7-aaa7-b111b045a318",
   "metadata": {},
   "outputs": [],
   "source": [
    "!pachctl list repo"
   ]
  },
  {
   "cell_type": "markdown",
   "id": "06e4327b-2eec-46ad-bfad-26041cec7042",
   "metadata": {},
   "source": [
    "### Define the training pipeline, with the new repo as input"
   ]
  },
  {
   "cell_type": "code",
   "execution_count": null,
   "id": "4675868f-7582-4230-b831-e30a6d64ac58",
   "metadata": {
    "tags": []
   },
   "outputs": [],
   "source": [
    "!cat ../../../determined-examples/scratch/brain-mri/pach/brain-mri/00-training-pipeline.json"
   ]
  },
  {
   "cell_type": "code",
   "execution_count": null,
   "id": "a3acd19a-3d26-41e6-8a66-a73169dbf492",
   "metadata": {},
   "outputs": [],
   "source": [
    "!pachctl create pipeline -f ../../../determined-examples/scratch/brain-mri/pach/brain-mri/00-training-pipeline.json"
   ]
  },
  {
   "cell_type": "code",
   "execution_count": null,
   "id": "88f860e5-bbdb-4cb5-beae-3c3eb62a3f17",
   "metadata": {},
   "outputs": [],
   "source": [
    "!pachctl list pipeline"
   ]
  },
  {
   "cell_type": "markdown",
   "id": "1627d3cb-3ee6-4bcb-ac01-afde00ca5568",
   "metadata": {},
   "source": [
    "### Check out where the container is coming from (needs to be built)"
   ]
  },
  {
   "cell_type": "code",
   "execution_count": null,
   "id": "a69e3589-9e2f-4324-b661-5f8e5a6371b4",
   "metadata": {},
   "outputs": [],
   "source": [
    "!curl 10.10.162.143:9002/v2/_catalog"
   ]
  },
  {
   "cell_type": "markdown",
   "id": "4446415c-1ae6-4359-8103-17b3f0e9b227",
   "metadata": {},
   "source": [
    "### Update the pipeline if changes are made to the .json definition file"
   ]
  },
  {
   "cell_type": "code",
   "execution_count": null,
   "id": "5c7efea3-f335-4343-a5d0-02d556c8c20d",
   "metadata": {},
   "outputs": [],
   "source": [
    "!pachctl update pipeline -f ../../../determined-examples/scratch/brain-mri/pach/brain-mri/00-training-pipeline.json --reprocess"
   ]
  },
  {
   "cell_type": "markdown",
   "id": "067ec08b-b322-4a31-87b9-da6b63dca086",
   "metadata": {},
   "source": [
    "### Split the data into 4"
   ]
  },
  {
   "cell_type": "code",
   "execution_count": null,
   "id": "61af68f5-8589-49db-a302-f0ec4a464ef7",
   "metadata": {
    "tags": []
   },
   "outputs": [],
   "source": [
    "!ls /data/kaggle_3m"
   ]
  },
  {
   "cell_type": "code",
   "execution_count": null,
   "id": "268b2fb4-4a67-4fcd-bfbb-0c03bc28dd2c",
   "metadata": {},
   "outputs": [],
   "source": [
    "!mkdir -p /data/split/{CS,DU,HT,FG}"
   ]
  },
  {
   "cell_type": "code",
   "execution_count": null,
   "id": "de3a64bb-960f-4fda-96a6-be01fa24ac06",
   "metadata": {},
   "outputs": [],
   "source": [
    "!ls /data/split"
   ]
  },
  {
   "cell_type": "code",
   "execution_count": null,
   "id": "de3d91b9-ab07-451f-a194-ba5adc11e206",
   "metadata": {
    "tags": []
   },
   "outputs": [],
   "source": [
    "for x in {\"CS\",\"DU\",\"FG\",\"HT\"}:\n",
    "    !cp -r /data/kaggle_3m/TCGA_{x}* /data/split/{x}"
   ]
  },
  {
   "cell_type": "code",
   "execution_count": null,
   "id": "929fa607-8b94-4616-9cee-b68b7ee55f1a",
   "metadata": {
    "tags": []
   },
   "outputs": [],
   "source": [
    "!ls /data/split/*"
   ]
  },
  {
   "cell_type": "markdown",
   "id": "b5f01b14-bd23-4b64-bacb-eaf73d0fed9a",
   "metadata": {},
   "source": [
    "### There is one study left, \"EZ\". We can use that later"
   ]
  },
  {
   "cell_type": "code",
   "execution_count": null,
   "id": "4b745ae6-9340-4099-ae31-7658a0d59474",
   "metadata": {},
   "outputs": [],
   "source": [
    "!ls /data/kaggle_3m/ | grep EZ"
   ]
  },
  {
   "cell_type": "markdown",
   "id": "f1e20801-4e01-482a-b18d-a0a30c196fcd",
   "metadata": {},
   "source": [
    "### Upload the first commit"
   ]
  },
  {
   "cell_type": "code",
   "execution_count": null,
   "id": "1771975c-b5aa-48c7-81c3-5a55e87e961e",
   "metadata": {
    "tags": []
   },
   "outputs": [],
   "source": [
    "!pachctl put file brain-mri-new@master:/data/CS -f /data/split/CS -r"
   ]
  },
  {
   "cell_type": "code",
   "execution_count": null,
   "id": "17357eb0-0c22-4821-8aff-654cf35912ad",
   "metadata": {
    "tags": []
   },
   "outputs": [],
   "source": [
    "!pachctl put file brain-mri-new@master:/data/FG -f /data/split/FG -r"
   ]
  },
  {
   "cell_type": "code",
   "execution_count": null,
   "id": "f2016f45-21da-4db9-9150-bb829496992f",
   "metadata": {},
   "outputs": [],
   "source": [
    "!pachctl put file brain-mri-new@master:/data/HT -f /data/split/HT -r"
   ]
  },
  {
   "cell_type": "code",
   "execution_count": null,
   "id": "17fe60b5-ea18-45e9-9188-e176bccbfbc4",
   "metadata": {},
   "outputs": [],
   "source": [
    "!pachctl put file brain-mri-new@master:/data/DU -f /data/split/DU -r"
   ]
  },
  {
   "cell_type": "code",
   "execution_count": null,
   "id": "ce2ed160-67e8-46af-a4a5-2b9801346f2c",
   "metadata": {
    "tags": []
   },
   "outputs": [],
   "source": [
    "!pachctl put file brain-mri-new@master:/dataset-README.md -f dataset-README.md"
   ]
  },
  {
   "cell_type": "code",
   "execution_count": null,
   "id": "0006ad31-2b06-4c16-a3e5-a315b19995bf",
   "metadata": {},
   "outputs": [],
   "source": []
  },
  {
   "cell_type": "code",
   "execution_count": null,
   "id": "6d8025c4-c2b2-4bd1-89d1-4977f89e70e1",
   "metadata": {
    "tags": []
   },
   "outputs": [],
   "source": [
    "!pachctl put file brain-mri-new@master:/data -f /data/split/CS/ -r"
   ]
  },
  {
   "cell_type": "code",
   "execution_count": null,
   "id": "11a25a1b-f481-4001-8c62-54399c67f42b",
   "metadata": {},
   "outputs": [],
   "source": [
    "!pachctl list repo"
   ]
  },
  {
   "cell_type": "code",
   "execution_count": null,
   "id": "ff75a7a9-8c0b-4415-a03a-02ee24f33e7a",
   "metadata": {},
   "outputs": [],
   "source": [
    "!pachctl list pipeline"
   ]
  },
  {
   "cell_type": "code",
   "execution_count": null,
   "id": "33338c4e-70a7-4205-a7e7-2bfbccb4a2ab",
   "metadata": {
    "tags": []
   },
   "outputs": [],
   "source": [
    "!pachctl inspect pipeline brain-mri-train"
   ]
  },
  {
   "cell_type": "code",
   "execution_count": null,
   "id": "043e2aab-2f7c-4195-9e7c-f1ccf7b77107",
   "metadata": {
    "tags": []
   },
   "outputs": [],
   "source": [
    "!pachctl logs --pipeline=brain-mri-train"
   ]
  },
  {
   "cell_type": "markdown",
   "id": "0a5db1e3-cd27-47ec-a16f-00279ce884ee",
   "metadata": {},
   "source": [
    "### Check Determined for the model in the registry"
   ]
  },
  {
   "cell_type": "code",
   "execution_count": null,
   "id": "5289a267-a934-4322-8bbd-bc4109f36a49",
   "metadata": {},
   "outputs": [],
   "source": []
  },
  {
   "cell_type": "code",
   "execution_count": null,
   "id": "56548490-4509-4608-9fc7-7d09e3ba975f",
   "metadata": {},
   "outputs": [],
   "source": []
  },
  {
   "cell_type": "code",
   "execution_count": null,
   "id": "ee8896cb-044c-4553-a494-ec78ae7032bf",
   "metadata": {},
   "outputs": [],
   "source": []
  },
  {
   "cell_type": "markdown",
   "id": "d06e64b9-9ce1-42e9-9bd4-db771be9156b",
   "metadata": {},
   "source": [
    "### Test the first candidate model in the notebook"
   ]
  },
  {
   "cell_type": "code",
   "execution_count": null,
   "id": "036a6a8c-c207-4262-bffb-870214b7fab3",
   "metadata": {},
   "outputs": [],
   "source": []
  },
  {
   "cell_type": "code",
   "execution_count": null,
   "id": "6da4aa43-2d94-4d9e-bb9b-5ca925b4918b",
   "metadata": {},
   "outputs": [],
   "source": []
  },
  {
   "cell_type": "code",
   "execution_count": null,
   "id": "150c1979-0e67-4bf2-9ff1-17bac836cbb0",
   "metadata": {},
   "outputs": [],
   "source": []
  },
  {
   "cell_type": "markdown",
   "id": "20a69f9b-dcca-4271-82b2-7ae1f79e205b",
   "metadata": {},
   "source": [
    "### Upload the second commit"
   ]
  },
  {
   "cell_type": "code",
   "execution_count": null,
   "id": "f96f0894-367f-4e25-a560-cfcb636c130c",
   "metadata": {
    "tags": []
   },
   "outputs": [],
   "source": [
    "!pachctl put file brain-mri-new@master:/data -f /data/split/FG -r"
   ]
  },
  {
   "cell_type": "code",
   "execution_count": null,
   "id": "02feb1a1-6951-4341-b28c-aa994bf68c29",
   "metadata": {},
   "outputs": [],
   "source": []
  },
  {
   "cell_type": "code",
   "execution_count": null,
   "id": "27126649-6300-4d78-a3ac-dbe2373faee9",
   "metadata": {},
   "outputs": [],
   "source": []
  },
  {
   "cell_type": "markdown",
   "id": "2f8db2dd-7fd2-4285-9e55-89d1ddd8bc1d",
   "metadata": {},
   "source": [
    "### Compare the two models in the notebook"
   ]
  },
  {
   "cell_type": "code",
   "execution_count": null,
   "id": "5cb1cf67-3985-4f57-aa16-7819607ff187",
   "metadata": {},
   "outputs": [],
   "source": []
  },
  {
   "cell_type": "code",
   "execution_count": null,
   "id": "b94bf023-6d26-4ddd-9112-f2e420ca59c3",
   "metadata": {},
   "outputs": [],
   "source": []
  },
  {
   "cell_type": "markdown",
   "id": "e0ca3d86-bb95-44f6-8ddb-157fc38bf74e",
   "metadata": {},
   "source": [
    "### Upload the third commit"
   ]
  },
  {
   "cell_type": "code",
   "execution_count": null,
   "id": "6582190f-9594-4f89-b5da-b49b8fea7d45",
   "metadata": {
    "tags": []
   },
   "outputs": [],
   "source": [
    "!pachctl put file brain-mri-new@master:/data -f /data/split/HT -r"
   ]
  },
  {
   "cell_type": "code",
   "execution_count": null,
   "id": "1ba78e02-7042-4aae-a03e-5defa0718aba",
   "metadata": {},
   "outputs": [],
   "source": []
  },
  {
   "cell_type": "markdown",
   "id": "3f7c8190-73a8-43e0-87a8-86256bdc2363",
   "metadata": {},
   "source": [
    "### Upload the fourth commit"
   ]
  },
  {
   "cell_type": "code",
   "execution_count": null,
   "id": "c8b7b4ae-62e1-4e9e-b6e2-b2981ccb0c4b",
   "metadata": {},
   "outputs": [],
   "source": [
    "!pachctl put file brain-mri-new@master:/data -f /data/split/DU -r"
   ]
  },
  {
   "cell_type": "code",
   "execution_count": null,
   "id": "ef70656e-ab89-4eea-9d68-6bfcac8721be",
   "metadata": {},
   "outputs": [],
   "source": []
  },
  {
   "cell_type": "markdown",
   "id": "617596a1-f007-4110-9f03-70a6b0a2e992",
   "metadata": {},
   "source": [
    "### Check out other branches"
   ]
  },
  {
   "cell_type": "code",
   "execution_count": null,
   "id": "db22b5db-7ea7-4a8d-83e5-8a20e1f8f953",
   "metadata": {
    "tags": []
   },
   "outputs": [],
   "source": [
    "!pachctl put file brain-mri-new@new:/data -f /data/split/CS/TCGA_CS_4942_19970222/ -r"
   ]
  },
  {
   "cell_type": "code",
   "execution_count": null,
   "id": "9c400266-f8ce-44cc-906c-be219a26a994",
   "metadata": {},
   "outputs": [],
   "source": []
  },
  {
   "cell_type": "code",
   "execution_count": null,
   "id": "6fe28a20-41db-4289-8e12-31c86d4feb81",
   "metadata": {},
   "outputs": [],
   "source": []
  },
  {
   "cell_type": "code",
   "execution_count": null,
   "id": "dbe2193b-2fe6-4cd1-b63e-ce305b87e9a2",
   "metadata": {},
   "outputs": [],
   "source": []
  }
 ],
 "metadata": {
  "kernelspec": {
   "display_name": "Python 3 (ipykernel)",
   "language": "python",
   "name": "python3"
  },
  "language_info": {
   "codemirror_mode": {
    "name": "ipython",
    "version": 3
   },
   "file_extension": ".py",
   "mimetype": "text/x-python",
   "name": "python",
   "nbconvert_exporter": "python",
   "pygments_lexer": "ipython3",
   "version": "3.8.13"
  }
 },
 "nbformat": 4,
 "nbformat_minor": 5
}
