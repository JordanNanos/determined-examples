{
 "cells": [
  {
   "cell_type": "markdown",
   "id": "ea5c88dc-d1dd-4f74-bd24-75335a5ac275",
   "metadata": {},
   "source": [
    "Reusing code from https://www.kaggle.com/code/agggshambhavi/pytorch-brain-mri-binary-segmentation"
   ]
  },
  {
   "cell_type": "markdown",
   "id": "3e1e28e8-c05b-4b8d-b2bd-dd7b371a69ed",
   "metadata": {},
   "source": [
    "# Imports"
   ]
  },
  {
   "cell_type": "code",
   "execution_count": 1,
   "id": "c93f8dcf-7ecb-4db7-99f2-b1d8959e6054",
   "metadata": {},
   "outputs": [
    {
     "name": "stdout",
     "output_type": "stream",
     "text": [
      "Collecting opencv-python-headless\n",
      "  Downloading opencv_python_headless-4.6.0.66-cp36-abi3-macosx_10_15_x86_64.whl (46.4 MB)\n",
      "\u001b[2K     \u001b[90m━━━━━━━━━━━━━━━━━━━━━━━━━━━━━━━━━━━━━━━━\u001b[0m \u001b[32m46.4/46.4 MB\u001b[0m \u001b[31m22.1 MB/s\u001b[0m eta \u001b[36m0:00:00\u001b[0m00:01\u001b[0m00:01\u001b[0m\n",
      "\u001b[?25hCollecting sklearn\n",
      "  Using cached sklearn-0.0-py2.py3-none-any.whl\n",
      "Requirement already satisfied: numpy>=1.17.3 in /Users/j9s/miniconda3/envs/scratch/lib/python3.9/site-packages (from opencv-python-headless) (1.23.4)\n",
      "Collecting scikit-learn\n",
      "  Downloading scikit_learn-1.1.2-cp39-cp39-macosx_10_9_x86_64.whl (8.7 MB)\n",
      "\u001b[2K     \u001b[90m━━━━━━━━━━━━━━━━━━━━━━━━━━━━━━━━━━━━━━━━\u001b[0m \u001b[32m8.7/8.7 MB\u001b[0m \u001b[31m29.7 MB/s\u001b[0m eta \u001b[36m0:00:00\u001b[0m00:01\u001b[0m00:01\u001b[0m\n",
      "\u001b[?25hCollecting scipy>=1.3.2\n",
      "  Downloading scipy-1.9.2-cp39-cp39-macosx_10_9_x86_64.whl (34.3 MB)\n",
      "\u001b[2K     \u001b[90m━━━━━━━━━━━━━━━━━━━━━━━━━━━━━━━━━━━━━━━━\u001b[0m \u001b[32m34.3/34.3 MB\u001b[0m \u001b[31m25.0 MB/s\u001b[0m eta \u001b[36m0:00:00\u001b[0m00:01\u001b[0m00:01\u001b[0m\n",
      "\u001b[?25hCollecting joblib>=1.0.0\n",
      "  Downloading joblib-1.2.0-py3-none-any.whl (297 kB)\n",
      "\u001b[2K     \u001b[90m━━━━━━━━━━━━━━━━━━━━━━━━━━━━━━━━━━━━━━━\u001b[0m \u001b[32m298.0/298.0 kB\u001b[0m \u001b[31m8.7 MB/s\u001b[0m eta \u001b[36m0:00:00\u001b[0m\n",
      "\u001b[?25hCollecting threadpoolctl>=2.0.0\n",
      "  Using cached threadpoolctl-3.1.0-py3-none-any.whl (14 kB)\n",
      "Installing collected packages: threadpoolctl, scipy, opencv-python-headless, joblib, scikit-learn, sklearn\n",
      "Successfully installed joblib-1.2.0 opencv-python-headless-4.6.0.66 scikit-learn-1.1.2 scipy-1.9.2 sklearn-0.0 threadpoolctl-3.1.0\n"
     ]
    }
   ],
   "source": [
    "!pip install opencv-python-headless sklearn"
   ]
  },
  {
   "cell_type": "code",
   "execution_count": 3,
   "id": "3cb6ff72",
   "metadata": {},
   "outputs": [
    {
     "name": "stdout",
     "output_type": "stream",
     "text": [
      "Collecting pandas\n",
      "  Downloading pandas-1.5.0-cp39-cp39-macosx_10_9_x86_64.whl (12.1 MB)\n",
      "\u001b[2K     \u001b[90m━━━━━━━━━━━━━━━━━━━━━━━━━━━━━━━━━━━━━━━━\u001b[0m \u001b[32m12.1/12.1 MB\u001b[0m \u001b[31m23.1 MB/s\u001b[0m eta \u001b[36m0:00:00\u001b[0m00:01\u001b[0m00:01\u001b[0m\n",
      "\u001b[?25hRequirement already satisfied: numpy>=1.20.3 in /Users/j9s/miniconda3/envs/scratch/lib/python3.9/site-packages (from pandas) (1.23.4)\n",
      "Requirement already satisfied: python-dateutil>=2.8.1 in /Users/j9s/miniconda3/envs/scratch/lib/python3.9/site-packages (from pandas) (2.8.2)\n",
      "Requirement already satisfied: pytz>=2020.1 in /Users/j9s/miniconda3/envs/scratch/lib/python3.9/site-packages (from pandas) (2022.4)\n",
      "Requirement already satisfied: six>=1.5 in /Users/j9s/miniconda3/envs/scratch/lib/python3.9/site-packages (from python-dateutil>=2.8.1->pandas) (1.16.0)\n",
      "Installing collected packages: pandas\n",
      "Successfully installed pandas-1.5.0\n"
     ]
    }
   ],
   "source": [
    "!pip install pandas"
   ]
  },
  {
   "cell_type": "code",
   "execution_count": 5,
   "id": "5f088fc8-576b-4ff5-9f8a-025b3f6cfe4c",
   "metadata": {},
   "outputs": [],
   "source": [
    "import os\n",
    "\n",
    "import numpy as np\n",
    "import pandas as pd\n",
    "\n",
    "from PIL import Image\n",
    "import cv2\n",
    "\n",
    "import torch\n",
    "from torch import nn\n",
    "from torch import optim\n",
    "from torch.utils.data import Dataset, DataLoader\n",
    "from torchvision import transforms\n",
    "from sklearn.model_selection import train_test_split"
   ]
  },
  {
   "cell_type": "markdown",
   "id": "31974b86-319d-4d81-9512-fab41b394248",
   "metadata": {},
   "source": [
    "# Defining parameters"
   ]
  },
  {
   "cell_type": "code",
   "execution_count": 6,
   "id": "0b2be069-71ef-4388-8547-8b39d1b65616",
   "metadata": {},
   "outputs": [],
   "source": [
    "data_dir = \"kaggle_3m/\"\n",
    "\n",
    "train_fraction = 0.8\n",
    "validation_fraction = 0.2\n",
    "batch_size = 16\n",
    "\n",
    "input_dim = 256\n",
    "input_ch = 3\n",
    "output_dim = 256\n",
    "output_ch = 1\n",
    "\n",
    "learning_rate = 0.01\n",
    "epochs = 25\n",
    "SEED1 = 1\n",
    "SEED2 = 2"
   ]
  },
  {
   "cell_type": "markdown",
   "id": "b75986e8-01bd-4945-8627-435a175c667e",
   "metadata": {},
   "source": [
    "# Reading images path"
   ]
  },
  {
   "cell_type": "code",
   "execution_count": 7,
   "id": "cc3f41a4-d281-46fe-8bbe-30589fbd51fa",
   "metadata": {},
   "outputs": [
    {
     "data": {
      "text/html": [
       "<div>\n",
       "<style scoped>\n",
       "    .dataframe tbody tr th:only-of-type {\n",
       "        vertical-align: middle;\n",
       "    }\n",
       "\n",
       "    .dataframe tbody tr th {\n",
       "        vertical-align: top;\n",
       "    }\n",
       "\n",
       "    .dataframe thead th {\n",
       "        text-align: right;\n",
       "    }\n",
       "</style>\n",
       "<table border=\"1\" class=\"dataframe\">\n",
       "  <thead>\n",
       "    <tr style=\"text-align: right;\">\n",
       "      <th></th>\n",
       "      <th>directory</th>\n",
       "      <th>images</th>\n",
       "      <th>masks</th>\n",
       "    </tr>\n",
       "  </thead>\n",
       "  <tbody>\n",
       "    <tr>\n",
       "      <th>0</th>\n",
       "      <td>TCGA_CS_6667_20011105</td>\n",
       "      <td>TCGA_CS_6667_20011105_8.tif</td>\n",
       "      <td>TCGA_CS_6667_20011105_8_mask.tif</td>\n",
       "    </tr>\n",
       "    <tr>\n",
       "      <th>1</th>\n",
       "      <td>TCGA_CS_6667_20011105</td>\n",
       "      <td>TCGA_CS_6667_20011105_9.tif</td>\n",
       "      <td>TCGA_CS_6667_20011105_9_mask.tif</td>\n",
       "    </tr>\n",
       "    <tr>\n",
       "      <th>2</th>\n",
       "      <td>TCGA_CS_6667_20011105</td>\n",
       "      <td>TCGA_CS_6667_20011105_2.tif</td>\n",
       "      <td>TCGA_CS_6667_20011105_2_mask.tif</td>\n",
       "    </tr>\n",
       "    <tr>\n",
       "      <th>3</th>\n",
       "      <td>TCGA_CS_6667_20011105</td>\n",
       "      <td>TCGA_CS_6667_20011105_3.tif</td>\n",
       "      <td>TCGA_CS_6667_20011105_3_mask.tif</td>\n",
       "    </tr>\n",
       "    <tr>\n",
       "      <th>4</th>\n",
       "      <td>TCGA_CS_6667_20011105</td>\n",
       "      <td>TCGA_CS_6667_20011105_20.tif</td>\n",
       "      <td>TCGA_CS_6667_20011105_20_mask.tif</td>\n",
       "    </tr>\n",
       "  </tbody>\n",
       "</table>\n",
       "</div>"
      ],
      "text/plain": [
       "               directory                        images  \\\n",
       "0  TCGA_CS_6667_20011105   TCGA_CS_6667_20011105_8.tif   \n",
       "1  TCGA_CS_6667_20011105   TCGA_CS_6667_20011105_9.tif   \n",
       "2  TCGA_CS_6667_20011105   TCGA_CS_6667_20011105_2.tif   \n",
       "3  TCGA_CS_6667_20011105   TCGA_CS_6667_20011105_3.tif   \n",
       "4  TCGA_CS_6667_20011105  TCGA_CS_6667_20011105_20.tif   \n",
       "\n",
       "                               masks  \n",
       "0   TCGA_CS_6667_20011105_8_mask.tif  \n",
       "1   TCGA_CS_6667_20011105_9_mask.tif  \n",
       "2   TCGA_CS_6667_20011105_2_mask.tif  \n",
       "3   TCGA_CS_6667_20011105_3_mask.tif  \n",
       "4  TCGA_CS_6667_20011105_20_mask.tif  "
      ]
     },
     "execution_count": 7,
     "metadata": {},
     "output_type": "execute_result"
    }
   ],
   "source": [
    "dirs, images, masks = [], [], []\n",
    "\n",
    "for root, folders, files in  os.walk(data_dir):\n",
    "    for file in files:\n",
    "        if 'mask' in file:\n",
    "            dirs.append(root.replace(data_dir, ''))\n",
    "            masks.append(file)\n",
    "            images.append(file.replace(\"_mask\", \"\"))\n",
    "\n",
    "PathDF = pd.DataFrame({'directory': dirs,\n",
    "                      'images': images,\n",
    "                      'masks': masks})\n",
    "PathDF.head()"
   ]
  },
  {
   "cell_type": "code",
   "execution_count": 8,
   "id": "f7e0dae3-1ae3-4f2f-b20b-faf8c7c88fb7",
   "metadata": {},
   "outputs": [],
   "source": [
    "for i in PathDF.index:\n",
    "    PathDF.loc[i, \"diagnosis\"] = 1 if np.max(cv2.imread(os.path.join(data_dir, PathDF.loc[i, 'directory'], PathDF.loc[i,\"masks\"]))) > 0 else 0"
   ]
  },
  {
   "cell_type": "code",
   "execution_count": 9,
   "id": "b0d657b1-b754-4c61-b1ff-06768e749b33",
   "metadata": {},
   "outputs": [
    {
     "data": {
      "text/html": [
       "<div>\n",
       "<style scoped>\n",
       "    .dataframe tbody tr th:only-of-type {\n",
       "        vertical-align: middle;\n",
       "    }\n",
       "\n",
       "    .dataframe tbody tr th {\n",
       "        vertical-align: top;\n",
       "    }\n",
       "\n",
       "    .dataframe thead th {\n",
       "        text-align: right;\n",
       "    }\n",
       "</style>\n",
       "<table border=\"1\" class=\"dataframe\">\n",
       "  <thead>\n",
       "    <tr style=\"text-align: right;\">\n",
       "      <th></th>\n",
       "      <th>directory</th>\n",
       "      <th>images</th>\n",
       "      <th>masks</th>\n",
       "      <th>diagnosis</th>\n",
       "    </tr>\n",
       "  </thead>\n",
       "  <tbody>\n",
       "    <tr>\n",
       "      <th>0</th>\n",
       "      <td>TCGA_CS_6667_20011105</td>\n",
       "      <td>TCGA_CS_6667_20011105_8.tif</td>\n",
       "      <td>TCGA_CS_6667_20011105_8_mask.tif</td>\n",
       "      <td>0.0</td>\n",
       "    </tr>\n",
       "    <tr>\n",
       "      <th>1</th>\n",
       "      <td>TCGA_CS_6667_20011105</td>\n",
       "      <td>TCGA_CS_6667_20011105_9.tif</td>\n",
       "      <td>TCGA_CS_6667_20011105_9_mask.tif</td>\n",
       "      <td>0.0</td>\n",
       "    </tr>\n",
       "    <tr>\n",
       "      <th>2</th>\n",
       "      <td>TCGA_CS_6667_20011105</td>\n",
       "      <td>TCGA_CS_6667_20011105_2.tif</td>\n",
       "      <td>TCGA_CS_6667_20011105_2_mask.tif</td>\n",
       "      <td>0.0</td>\n",
       "    </tr>\n",
       "    <tr>\n",
       "      <th>3</th>\n",
       "      <td>TCGA_CS_6667_20011105</td>\n",
       "      <td>TCGA_CS_6667_20011105_3.tif</td>\n",
       "      <td>TCGA_CS_6667_20011105_3_mask.tif</td>\n",
       "      <td>0.0</td>\n",
       "    </tr>\n",
       "    <tr>\n",
       "      <th>4</th>\n",
       "      <td>TCGA_CS_6667_20011105</td>\n",
       "      <td>TCGA_CS_6667_20011105_20.tif</td>\n",
       "      <td>TCGA_CS_6667_20011105_20_mask.tif</td>\n",
       "      <td>0.0</td>\n",
       "    </tr>\n",
       "  </tbody>\n",
       "</table>\n",
       "</div>"
      ],
      "text/plain": [
       "               directory                        images  \\\n",
       "0  TCGA_CS_6667_20011105   TCGA_CS_6667_20011105_8.tif   \n",
       "1  TCGA_CS_6667_20011105   TCGA_CS_6667_20011105_9.tif   \n",
       "2  TCGA_CS_6667_20011105   TCGA_CS_6667_20011105_2.tif   \n",
       "3  TCGA_CS_6667_20011105   TCGA_CS_6667_20011105_3.tif   \n",
       "4  TCGA_CS_6667_20011105  TCGA_CS_6667_20011105_20.tif   \n",
       "\n",
       "                               masks  diagnosis  \n",
       "0   TCGA_CS_6667_20011105_8_mask.tif        0.0  \n",
       "1   TCGA_CS_6667_20011105_9_mask.tif        0.0  \n",
       "2   TCGA_CS_6667_20011105_2_mask.tif        0.0  \n",
       "3   TCGA_CS_6667_20011105_3_mask.tif        0.0  \n",
       "4  TCGA_CS_6667_20011105_20_mask.tif        0.0  "
      ]
     },
     "execution_count": 9,
     "metadata": {},
     "output_type": "execute_result"
    }
   ],
   "source": [
    "PathDF.head()"
   ]
  },
  {
   "cell_type": "code",
   "execution_count": 10,
   "id": "fabb9121-15a7-4ca3-9253-18755087dab4",
   "metadata": {},
   "outputs": [
    {
     "name": "stdout",
     "output_type": "stream",
     "text": [
      "Train: 3143\n",
      "Valid: 786\n",
      "Train2: 3143\n",
      "Valid2: 786\n"
     ]
    }
   ],
   "source": [
    "train_df, valid_df = train_test_split(PathDF, random_state=SEED1,\n",
    "                                 test_size = validation_fraction)\n",
    "\n",
    "print('Train:', train_df.shape[0])\n",
    "print('Valid:', valid_df.shape[0])\n",
    "\n",
    "train_df2, valid_df2 = train_test_split(PathDF, random_state=SEED2,\n",
    "                                 test_size = validation_fraction)\n",
    "\n",
    "print('Train2:', train_df2.shape[0])\n",
    "print('Valid2:', valid_df2.shape[0])"
   ]
  },
  {
   "cell_type": "code",
   "execution_count": 11,
   "id": "5f29a825-12ca-4b2b-a25b-5c0d67edb9ff",
   "metadata": {},
   "outputs": [
    {
     "data": {
      "text/html": [
       "<div>\n",
       "<style scoped>\n",
       "    .dataframe tbody tr th:only-of-type {\n",
       "        vertical-align: middle;\n",
       "    }\n",
       "\n",
       "    .dataframe tbody tr th {\n",
       "        vertical-align: top;\n",
       "    }\n",
       "\n",
       "    .dataframe thead th {\n",
       "        text-align: right;\n",
       "    }\n",
       "</style>\n",
       "<table border=\"1\" class=\"dataframe\">\n",
       "  <thead>\n",
       "    <tr style=\"text-align: right;\">\n",
       "      <th></th>\n",
       "      <th>directory</th>\n",
       "      <th>images</th>\n",
       "      <th>masks</th>\n",
       "      <th>diagnosis</th>\n",
       "    </tr>\n",
       "  </thead>\n",
       "  <tbody>\n",
       "    <tr>\n",
       "      <th>1544</th>\n",
       "      <td>TCGA_FG_5962_20000626</td>\n",
       "      <td>TCGA_FG_5962_20000626_42.tif</td>\n",
       "      <td>TCGA_FG_5962_20000626_42_mask.tif</td>\n",
       "      <td>1.0</td>\n",
       "    </tr>\n",
       "    <tr>\n",
       "      <th>2433</th>\n",
       "      <td>TCGA_DU_5854_19951104</td>\n",
       "      <td>TCGA_DU_5854_19951104_14.tif</td>\n",
       "      <td>TCGA_DU_5854_19951104_14_mask.tif</td>\n",
       "      <td>0.0</td>\n",
       "    </tr>\n",
       "    <tr>\n",
       "      <th>3473</th>\n",
       "      <td>TCGA_CS_6668_20011025</td>\n",
       "      <td>TCGA_CS_6668_20011025_11.tif</td>\n",
       "      <td>TCGA_CS_6668_20011025_11_mask.tif</td>\n",
       "      <td>0.0</td>\n",
       "    </tr>\n",
       "    <tr>\n",
       "      <th>3710</th>\n",
       "      <td>TCGA_EZ_7264_20010816</td>\n",
       "      <td>TCGA_EZ_7264_20010816_20.tif</td>\n",
       "      <td>TCGA_EZ_7264_20010816_20_mask.tif</td>\n",
       "      <td>1.0</td>\n",
       "    </tr>\n",
       "    <tr>\n",
       "      <th>195</th>\n",
       "      <td>TCGA_DU_7010_19860307</td>\n",
       "      <td>TCGA_DU_7010_19860307_33.tif</td>\n",
       "      <td>TCGA_DU_7010_19860307_33_mask.tif</td>\n",
       "      <td>1.0</td>\n",
       "    </tr>\n",
       "    <tr>\n",
       "      <th>...</th>\n",
       "      <td>...</td>\n",
       "      <td>...</td>\n",
       "      <td>...</td>\n",
       "      <td>...</td>\n",
       "    </tr>\n",
       "    <tr>\n",
       "      <th>905</th>\n",
       "      <td>TCGA_HT_7608_19940304</td>\n",
       "      <td>TCGA_HT_7608_19940304_2.tif</td>\n",
       "      <td>TCGA_HT_7608_19940304_2_mask.tif</td>\n",
       "      <td>0.0</td>\n",
       "    </tr>\n",
       "    <tr>\n",
       "      <th>3839</th>\n",
       "      <td>TCGA_HT_7881_19981015</td>\n",
       "      <td>TCGA_HT_7881_19981015_37.tif</td>\n",
       "      <td>TCGA_HT_7881_19981015_37_mask.tif</td>\n",
       "      <td>1.0</td>\n",
       "    </tr>\n",
       "    <tr>\n",
       "      <th>1096</th>\n",
       "      <td>TCGA_FG_6689_20020326</td>\n",
       "      <td>TCGA_FG_6689_20020326_1.tif</td>\n",
       "      <td>TCGA_FG_6689_20020326_1_mask.tif</td>\n",
       "      <td>0.0</td>\n",
       "    </tr>\n",
       "    <tr>\n",
       "      <th>235</th>\n",
       "      <td>TCGA_FG_6688_20020215</td>\n",
       "      <td>TCGA_FG_6688_20020215_34.tif</td>\n",
       "      <td>TCGA_FG_6688_20020215_34_mask.tif</td>\n",
       "      <td>0.0</td>\n",
       "    </tr>\n",
       "    <tr>\n",
       "      <th>1061</th>\n",
       "      <td>TCGA_FG_6689_20020326</td>\n",
       "      <td>TCGA_FG_6689_20020326_21.tif</td>\n",
       "      <td>TCGA_FG_6689_20020326_21_mask.tif</td>\n",
       "      <td>1.0</td>\n",
       "    </tr>\n",
       "  </tbody>\n",
       "</table>\n",
       "<p>3143 rows × 4 columns</p>\n",
       "</div>"
      ],
      "text/plain": [
       "                  directory                        images  \\\n",
       "1544  TCGA_FG_5962_20000626  TCGA_FG_5962_20000626_42.tif   \n",
       "2433  TCGA_DU_5854_19951104  TCGA_DU_5854_19951104_14.tif   \n",
       "3473  TCGA_CS_6668_20011025  TCGA_CS_6668_20011025_11.tif   \n",
       "3710  TCGA_EZ_7264_20010816  TCGA_EZ_7264_20010816_20.tif   \n",
       "195   TCGA_DU_7010_19860307  TCGA_DU_7010_19860307_33.tif   \n",
       "...                     ...                           ...   \n",
       "905   TCGA_HT_7608_19940304   TCGA_HT_7608_19940304_2.tif   \n",
       "3839  TCGA_HT_7881_19981015  TCGA_HT_7881_19981015_37.tif   \n",
       "1096  TCGA_FG_6689_20020326   TCGA_FG_6689_20020326_1.tif   \n",
       "235   TCGA_FG_6688_20020215  TCGA_FG_6688_20020215_34.tif   \n",
       "1061  TCGA_FG_6689_20020326  TCGA_FG_6689_20020326_21.tif   \n",
       "\n",
       "                                  masks  diagnosis  \n",
       "1544  TCGA_FG_5962_20000626_42_mask.tif        1.0  \n",
       "2433  TCGA_DU_5854_19951104_14_mask.tif        0.0  \n",
       "3473  TCGA_CS_6668_20011025_11_mask.tif        0.0  \n",
       "3710  TCGA_EZ_7264_20010816_20_mask.tif        1.0  \n",
       "195   TCGA_DU_7010_19860307_33_mask.tif        1.0  \n",
       "...                                 ...        ...  \n",
       "905    TCGA_HT_7608_19940304_2_mask.tif        0.0  \n",
       "3839  TCGA_HT_7881_19981015_37_mask.tif        1.0  \n",
       "1096   TCGA_FG_6689_20020326_1_mask.tif        0.0  \n",
       "235   TCGA_FG_6688_20020215_34_mask.tif        0.0  \n",
       "1061  TCGA_FG_6689_20020326_21_mask.tif        1.0  \n",
       "\n",
       "[3143 rows x 4 columns]"
      ]
     },
     "execution_count": 11,
     "metadata": {},
     "output_type": "execute_result"
    }
   ],
   "source": [
    "train_df"
   ]
  },
  {
   "cell_type": "code",
   "execution_count": 12,
   "id": "65543a75-e224-4bbf-88d3-e7c1eaab30c5",
   "metadata": {},
   "outputs": [
    {
     "data": {
      "text/html": [
       "<div>\n",
       "<style scoped>\n",
       "    .dataframe tbody tr th:only-of-type {\n",
       "        vertical-align: middle;\n",
       "    }\n",
       "\n",
       "    .dataframe tbody tr th {\n",
       "        vertical-align: top;\n",
       "    }\n",
       "\n",
       "    .dataframe thead th {\n",
       "        text-align: right;\n",
       "    }\n",
       "</style>\n",
       "<table border=\"1\" class=\"dataframe\">\n",
       "  <thead>\n",
       "    <tr style=\"text-align: right;\">\n",
       "      <th></th>\n",
       "      <th>directory</th>\n",
       "      <th>images</th>\n",
       "      <th>masks</th>\n",
       "      <th>diagnosis</th>\n",
       "    </tr>\n",
       "  </thead>\n",
       "  <tbody>\n",
       "    <tr>\n",
       "      <th>3172</th>\n",
       "      <td>TCGA_DU_5852_19950709</td>\n",
       "      <td>TCGA_DU_5852_19950709_4.tif</td>\n",
       "      <td>TCGA_DU_5852_19950709_4_mask.tif</td>\n",
       "      <td>0.0</td>\n",
       "    </tr>\n",
       "    <tr>\n",
       "      <th>1379</th>\n",
       "      <td>TCGA_DU_A5TT_19980318</td>\n",
       "      <td>TCGA_DU_A5TT_19980318_37.tif</td>\n",
       "      <td>TCGA_DU_A5TT_19980318_37_mask.tif</td>\n",
       "      <td>0.0</td>\n",
       "    </tr>\n",
       "    <tr>\n",
       "      <th>2242</th>\n",
       "      <td>TCGA_FG_6691_20020405</td>\n",
       "      <td>TCGA_FG_6691_20020405_37.tif</td>\n",
       "      <td>TCGA_FG_6691_20020405_37_mask.tif</td>\n",
       "      <td>0.0</td>\n",
       "    </tr>\n",
       "    <tr>\n",
       "      <th>1685</th>\n",
       "      <td>TCGA_FG_6690_20020226</td>\n",
       "      <td>TCGA_FG_6690_20020226_31.tif</td>\n",
       "      <td>TCGA_FG_6690_20020226_31_mask.tif</td>\n",
       "      <td>1.0</td>\n",
       "    </tr>\n",
       "    <tr>\n",
       "      <th>2934</th>\n",
       "      <td>TCGA_HT_8106_19970727</td>\n",
       "      <td>TCGA_HT_8106_19970727_10.tif</td>\n",
       "      <td>TCGA_HT_8106_19970727_10_mask.tif</td>\n",
       "      <td>1.0</td>\n",
       "    </tr>\n",
       "    <tr>\n",
       "      <th>...</th>\n",
       "      <td>...</td>\n",
       "      <td>...</td>\n",
       "      <td>...</td>\n",
       "      <td>...</td>\n",
       "    </tr>\n",
       "    <tr>\n",
       "      <th>3606</th>\n",
       "      <td>TCGA_DU_6407_19860514</td>\n",
       "      <td>TCGA_DU_6407_19860514_40.tif</td>\n",
       "      <td>TCGA_DU_6407_19860514_40_mask.tif</td>\n",
       "      <td>0.0</td>\n",
       "    </tr>\n",
       "    <tr>\n",
       "      <th>1608</th>\n",
       "      <td>TCGA_CS_5396_20010302</td>\n",
       "      <td>TCGA_CS_5396_20010302_14.tif</td>\n",
       "      <td>TCGA_CS_5396_20010302_14_mask.tif</td>\n",
       "      <td>1.0</td>\n",
       "    </tr>\n",
       "    <tr>\n",
       "      <th>2541</th>\n",
       "      <td>TCGA_HT_7856_19950831</td>\n",
       "      <td>TCGA_HT_7856_19950831_3.tif</td>\n",
       "      <td>TCGA_HT_7856_19950831_3_mask.tif</td>\n",
       "      <td>0.0</td>\n",
       "    </tr>\n",
       "    <tr>\n",
       "      <th>2575</th>\n",
       "      <td>TCGA_CS_5393_19990606</td>\n",
       "      <td>TCGA_CS_5393_19990606_16.tif</td>\n",
       "      <td>TCGA_CS_5393_19990606_16_mask.tif</td>\n",
       "      <td>0.0</td>\n",
       "    </tr>\n",
       "    <tr>\n",
       "      <th>3240</th>\n",
       "      <td>TCGA_HT_8018_19970411</td>\n",
       "      <td>TCGA_HT_8018_19970411_16.tif</td>\n",
       "      <td>TCGA_HT_8018_19970411_16_mask.tif</td>\n",
       "      <td>0.0</td>\n",
       "    </tr>\n",
       "  </tbody>\n",
       "</table>\n",
       "<p>3143 rows × 4 columns</p>\n",
       "</div>"
      ],
      "text/plain": [
       "                  directory                        images  \\\n",
       "3172  TCGA_DU_5852_19950709   TCGA_DU_5852_19950709_4.tif   \n",
       "1379  TCGA_DU_A5TT_19980318  TCGA_DU_A5TT_19980318_37.tif   \n",
       "2242  TCGA_FG_6691_20020405  TCGA_FG_6691_20020405_37.tif   \n",
       "1685  TCGA_FG_6690_20020226  TCGA_FG_6690_20020226_31.tif   \n",
       "2934  TCGA_HT_8106_19970727  TCGA_HT_8106_19970727_10.tif   \n",
       "...                     ...                           ...   \n",
       "3606  TCGA_DU_6407_19860514  TCGA_DU_6407_19860514_40.tif   \n",
       "1608  TCGA_CS_5396_20010302  TCGA_CS_5396_20010302_14.tif   \n",
       "2541  TCGA_HT_7856_19950831   TCGA_HT_7856_19950831_3.tif   \n",
       "2575  TCGA_CS_5393_19990606  TCGA_CS_5393_19990606_16.tif   \n",
       "3240  TCGA_HT_8018_19970411  TCGA_HT_8018_19970411_16.tif   \n",
       "\n",
       "                                  masks  diagnosis  \n",
       "3172   TCGA_DU_5852_19950709_4_mask.tif        0.0  \n",
       "1379  TCGA_DU_A5TT_19980318_37_mask.tif        0.0  \n",
       "2242  TCGA_FG_6691_20020405_37_mask.tif        0.0  \n",
       "1685  TCGA_FG_6690_20020226_31_mask.tif        1.0  \n",
       "2934  TCGA_HT_8106_19970727_10_mask.tif        1.0  \n",
       "...                                 ...        ...  \n",
       "3606  TCGA_DU_6407_19860514_40_mask.tif        0.0  \n",
       "1608  TCGA_CS_5396_20010302_14_mask.tif        1.0  \n",
       "2541   TCGA_HT_7856_19950831_3_mask.tif        0.0  \n",
       "2575  TCGA_CS_5393_19990606_16_mask.tif        0.0  \n",
       "3240  TCGA_HT_8018_19970411_16_mask.tif        0.0  \n",
       "\n",
       "[3143 rows x 4 columns]"
      ]
     },
     "execution_count": 12,
     "metadata": {},
     "output_type": "execute_result"
    }
   ],
   "source": [
    "train_df2"
   ]
  },
  {
   "cell_type": "markdown",
   "id": "1b768144-57c7-4757-ac93-882c4cb2883c",
   "metadata": {},
   "source": [
    "# Creating Torch Datasets and DataLoaders"
   ]
  },
  {
   "cell_type": "code",
   "execution_count": 13,
   "id": "71030a00-0a97-473d-80e7-a3b023e6c5e7",
   "metadata": {},
   "outputs": [],
   "source": [
    "class MRI_Dataset(Dataset):\n",
    "    def __init__(self, path_df, transform=None):\n",
    "        self.path_df = path_df\n",
    "        self.transform = transform\n",
    "        \n",
    "    def __len__(self):\n",
    "        return self.path_df.shape[0]\n",
    "    \n",
    "    def __getitem__(self, idx):\n",
    "        \n",
    "        base_path = os.path.join(data_dir, self.path_df.iloc[idx]['directory'])\n",
    "        img_path = os.path.join(base_path, self.path_df.iloc[idx]['images'])\n",
    "        mask_path = os.path.join(base_path, self.path_df.iloc[idx]['masks'])\n",
    "        \n",
    "        image = Image.open(img_path)\n",
    "        mask = Image.open(mask_path)\n",
    "        \n",
    "        sample = (image, mask)\n",
    "        \n",
    "        if self.transform:\n",
    "            sample = self.transform(sample)\n",
    "            \n",
    "        return sample            "
   ]
  },
  {
   "cell_type": "markdown",
   "id": "32b21d32-47b6-423e-973e-1aa09153c5c7",
   "metadata": {},
   "source": [
    "Preprocessing function to apply to images"
   ]
  },
  {
   "cell_type": "code",
   "execution_count": 14,
   "id": "fe76ffc1-e3f0-437a-9cff-199d0dfc52e2",
   "metadata": {},
   "outputs": [],
   "source": [
    "class PairedToTensor():\n",
    "    def __call__(self, sample):\n",
    "        img, mask = sample\n",
    "        img = np.array(img)\n",
    "        mask = np.expand_dims(mask, -1)\n",
    "        img = np.moveaxis(img, -1, 0)\n",
    "        mask = np.moveaxis(mask, -1, 0)\n",
    "        img, mask = torch.FloatTensor(img), torch.FloatTensor(mask)\n",
    "        img = img/255\n",
    "        mask = mask/255\n",
    "        return img, mask"
   ]
  },
  {
   "cell_type": "code",
   "execution_count": 15,
   "id": "30e11a32-a9b4-4308-8e22-467854a55eb7",
   "metadata": {},
   "outputs": [],
   "source": [
    "dataset = MRI_Dataset(train_df)\n",
    "sample = dataset[13]"
   ]
  },
  {
   "cell_type": "code",
   "execution_count": 16,
   "id": "5939e3b6-5635-4a3b-8700-7f06b54467e2",
   "metadata": {},
   "outputs": [
    {
     "data": {
      "image/png": "[encoded data removed]",
      "text/plain": [
       "<PIL.TiffImagePlugin.TiffImageFile image mode=RGB size=256x256>"
      ]
     },
     "execution_count": 16,
     "metadata": {},
     "output_type": "execute_result"
    }
   ],
   "source": [
    "sample[0]"
   ]
  },
  {
   "cell_type": "code",
   "execution_count": 17,
   "id": "6216762e-7e3d-479e-922c-1e50b1d12861",
   "metadata": {},
   "outputs": [],
   "source": [
    "train_data = MRI_Dataset(train_df, transform=PairedToTensor())\n",
    "valid_data = MRI_Dataset(valid_df, transform=PairedToTensor())\n",
    "\n",
    "train_loader = DataLoader(train_data, batch_size=batch_size,\n",
    "                         shuffle=True)\n",
    "valid_loader = DataLoader(valid_data, batch_size=batch_size,\n",
    "                         shuffle=False)"
   ]
  },
  {
   "cell_type": "markdown",
   "id": "7ce0a93a-0a74-4d82-9c4c-09dd182135ce",
   "metadata": {},
   "source": [
    "# Loading pretrained model"
   ]
  },
  {
   "cell_type": "code",
   "execution_count": 19,
   "id": "bdba60b8-506f-4f59-aaa4-9baf2f33c80c",
   "metadata": {},
   "outputs": [
    {
     "name": "stderr",
     "output_type": "stream",
     "text": [
      "Using cache found in /Users/j9s/.cache/torch/hub/mateuszbuda_brain-segmentation-pytorch_master\n"
     ]
    }
   ],
   "source": [
    "model = torch.hub.load('mateuszbuda/brain-segmentation-pytorch', 'unet',\n",
    "    in_channels=3, out_channels=1, init_features=32, pretrained=True)"
   ]
  },
  {
   "cell_type": "markdown",
   "id": "6feb360b-1c51-443c-91cd-16881c0a7c27",
   "metadata": {},
   "source": [
    "# Defining utility functions"
   ]
  },
  {
   "cell_type": "markdown",
   "id": "48078cf4-7461-42bf-8b3c-2f7f5c63d086",
   "metadata": {},
   "source": [
    "Custom metrics"
   ]
  },
  {
   "cell_type": "code",
   "execution_count": 20,
   "id": "867daa95-edc2-420d-8033-68153f6e2a23",
   "metadata": {},
   "outputs": [],
   "source": [
    "# code taken from https://www.kaggle.com/code/lqdisme/brain-mri-segmentation-unet-pytorch/notebook\n",
    "def dice_coef_metric(pred, label):\n",
    "    intersection = 2.0 * (pred * label).sum()\n",
    "    union = pred.sum() + label.sum()\n",
    "    if pred.sum() == 0 and label.sum() == 0:\n",
    "        return 1\n",
    "    return intersection / union"
   ]
  },
  {
   "cell_type": "code",
   "execution_count": 21,
   "id": "7ae36c89-c83b-4219-a610-f7ff900bfbe9",
   "metadata": {},
   "outputs": [],
   "source": [
    "def iou(pred, label):\n",
    "    intersection = (pred * label).sum()\n",
    "    union = pred.sum() + label.sum() - intersection\n",
    "    if pred.sum() == 0 and label.sum() == 0:\n",
    "        return 1\n",
    "    return intersection / union"
   ]
  },
  {
   "cell_type": "markdown",
   "id": "36851d1e-e9cc-446b-9b5f-f60914f14118",
   "metadata": {},
   "source": [
    "Training loop"
   ]
  },
  {
   "cell_type": "code",
   "execution_count": 22,
   "id": "bc2a4ec6-a06d-468e-a524-31794e680335",
   "metadata": {},
   "outputs": [],
   "source": [
    "def train_loop(model, optimizer, criterion, train_loader):\n",
    "    running_loss = 0\n",
    "    model.train()\n",
    "    \n",
    "    final_dice_coef = 0 \n",
    "\n",
    "    for i, data in enumerate(train_loader, 0):\n",
    "        imgs, masks = data\n",
    "\n",
    "        # forward\n",
    "        out = model(imgs)\n",
    "        loss = criterion(out, masks)\n",
    "        running_loss += loss.item() * imgs.shape[0]\n",
    "        \n",
    "        out_cut = np.copy(out.detach().cpu().numpy())\n",
    "        out_cut[np.nonzero(out_cut < 0.5)] = 0.0\n",
    "        out_cut[np.nonzero(out_cut >= 0.5)] = 1.0\n",
    "            \n",
    "        train_dice = dice_coef_metric(out_cut, masks.data.cpu().numpy())\n",
    "        final_dice_coef += train_dice \n",
    "        \n",
    "        # optimize\n",
    "        optimizer.zero_grad()\n",
    "        loss.backward()\n",
    "        optimizer.step()\n",
    "        \n",
    "    running_loss /= len(train_loader.sampler)\n",
    "    return {'dice coef':final_dice_coef/len(train_loader), \n",
    "                'loss':running_loss}"
   ]
  },
  {
   "cell_type": "markdown",
   "id": "c9428e39-1d7e-4f33-a239-9e2ad723d555",
   "metadata": {},
   "source": [
    "Validation loop"
   ]
  },
  {
   "cell_type": "code",
   "execution_count": 23,
   "id": "2093c975-10ee-425f-b03d-1034814db72e",
   "metadata": {},
   "outputs": [],
   "source": [
    "def eval_loop(model, criterion, eval_loader):\n",
    "    \n",
    "    running_loss = 0\n",
    "    final_dice_coef = 0 \n",
    "    \n",
    "    model.eval()\n",
    "    with torch.no_grad():\n",
    "\n",
    "        for i, data in enumerate(eval_loader, 0):\n",
    "            \n",
    "            imgs, masks = data\n",
    "            \n",
    "            out = model(imgs)\n",
    "            loss = criterion(out, masks)\n",
    "            running_loss += loss.item() * imgs.shape[0]\n",
    "            \n",
    "            out_cut = np.copy(out.detach().cpu().numpy())\n",
    "            out_cut[np.nonzero(out_cut < 0.5)] = 0.0\n",
    "            out_cut[np.nonzero(out_cut >= 0.5)] = 1.0\n",
    "            \n",
    "            valid_dice = dice_coef_metric(out_cut, masks.data.cpu().numpy())\n",
    "            final_dice_coef += valid_dice \n",
    "            \n",
    "    running_loss /= len(eval_loader.sampler)   \n",
    "    return {\n",
    "                'dice coef':final_dice_coef/len(eval_loader), \n",
    "                'loss':running_loss}"
   ]
  },
  {
   "cell_type": "markdown",
   "id": "7c9729ac-8b93-4085-9562-f4fb9b624489",
   "metadata": {},
   "source": [
    "General training function"
   ]
  },
  {
   "cell_type": "code",
   "execution_count": 24,
   "id": "0692d2f5-b736-4142-aae3-6963495bf3aa",
   "metadata": {},
   "outputs": [],
   "source": [
    "def train(model, optimizer, criterion, scheduler, train_loader, valid_loader,\n",
    "          num_epochs = epochs,\n",
    "          valid_loss_min = np.inf):\n",
    "    \n",
    "    train_loss_list = []\n",
    "    train_dice_coef = []\n",
    "    val_loss_list = []\n",
    "    val_dice_coef = []\n",
    "    \n",
    "    for e in range(num_epochs):\n",
    "        \n",
    "        train_metrics = train_loop(model, optimizer, criterion, \n",
    "                                   train_loader)\n",
    "        \n",
    "        val_metrics = eval_loop(model, criterion, valid_loader)\n",
    "        \n",
    "        scheduler.step(val_metrics['dice coef'])\n",
    "        \n",
    "        train_loss_list.append(train_metrics['loss']) \n",
    "        train_dice_coef.append(train_metrics['dice coef'])\n",
    "        val_loss_list.append(val_metrics['loss'])\n",
    "        val_dice_coef.append(val_metrics['dice coef'])\n",
    "        \n",
    "        print_string = f\"Epoch: {e+1}\\n\"\n",
    "        print_string += f\"Train Loss: {train_metrics['loss']:.5f}\\n\"\n",
    "        print_string += f\"Train Dice Coef: {train_metrics['dice coef']:.5f}\\n\"\n",
    "        print_string += f\"Valid Loss: {val_metrics['loss']:.5f}\\n\"\n",
    "        print_string += f\"Valid Dice Coef: {val_metrics['dice coef']:.5f}\\n\"\n",
    "        print(print_string)\n",
    "        \n",
    "        # save model\n",
    "        #if val_metrics[\"loss\"] <= valid_loss_min:\n",
    "        #    torch.save(model.state_dict(), \"UNET.pt\")\n",
    "        #    valid_loss_min = val_metrics[\"loss\"]\n",
    "        \n",
    "    return [train_loss_list,\n",
    "    train_dice_coef,\n",
    "    val_loss_list,\n",
    "    val_dice_coef]"
   ]
  },
  {
   "cell_type": "markdown",
   "id": "85d69c4b-b557-433e-8088-ca25181b1443",
   "metadata": {},
   "source": [
    "# Train model"
   ]
  },
  {
   "cell_type": "code",
   "execution_count": 25,
   "id": "dc5c7cfe-cc1c-4e12-aac2-a8e2f0127408",
   "metadata": {},
   "outputs": [
    {
     "name": "stderr",
     "output_type": "stream",
     "text": [
      "/var/folders/s0/plfdbhwn6ss5q5b3mx8cw_5c0000gn/T/ipykernel_15053/3255609807.py:8: UserWarning: The given NumPy array is not writable, and PyTorch does not support non-writable tensors. This means writing to this tensor will result in undefined behavior. You may want to copy the array to protect its data or make it writable before converting it to a tensor. This type of warning will be suppressed for the rest of this program. (Triggered internally at  /Users/runner/work/pytorch/pytorch/pytorch/torch/csrc/utils/tensor_numpy.cpp:178.)\n",
      "  img, mask = torch.FloatTensor(img), torch.FloatTensor(mask)\n"
     ]
    },
    {
     "name": "stdout",
     "output_type": "stream",
     "text": [
      "Epoch: 1\n",
      "Train Loss: 0.03227\n",
      "Train Dice Coef: 0.37651\n",
      "Valid Loss: 0.03971\n",
      "Valid Dice Coef: 0.10446\n",
      "\n"
     ]
    }
   ],
   "source": [
    "optimizer = optim.Adam(model.parameters(), lr=0.01)\n",
    "scheduler = optim.lr_scheduler.ReduceLROnPlateau(optimizer, 'max', patience=3)\n",
    "criterion = nn.BCELoss(reduction='mean')\n",
    "# Only 1 epoch, just to make sure the code is running - can take a while with CPU only\n",
    "train_loss_list, train_dice_coef,val_loss_list,val_dice_coef = train(\n",
    "    model, optimizer, criterion, scheduler, train_loader, valid_loader, num_epochs=1)"
   ]
  },
  {
   "cell_type": "code",
   "execution_count": null,
   "id": "52520f8b-494e-499a-84ad-5f876ccfe800",
   "metadata": {},
   "outputs": [],
   "source": []
  }
 ],
 "metadata": {
  "kernelspec": {
   "display_name": "Python 3.9.13 ('scratch')",
   "language": "python",
   "name": "python3"
  },
  "language_info": {
   "codemirror_mode": {
    "name": "ipython",
    "version": 3
   },
   "file_extension": ".py",
   "mimetype": "text/x-python",
   "name": "python",
   "nbconvert_exporter": "python",
   "pygments_lexer": "ipython3",
   "version": "3.9.13"
  },
  "vscode": {
   "interpreter": {
    "hash": "3572409704bb243e2062bf55b017a0bf3eab1ba8204fd6730d79b54649de6dc5"
   }
  }
 },
 "nbformat": 4,
 "nbformat_minor": 5
}
